{
 "cells": [
  {
   "cell_type": "code",
   "execution_count": 1,
   "metadata": {
    "ExecuteTime": {
     "end_time": "2020-03-28T22:23:07.227341Z",
     "start_time": "2020-03-28T22:23:05.594621Z"
    }
   },
   "outputs": [],
   "source": [
    "import pandas as pd \n",
    "from pandas_profiling import ProfileReport\n",
    "\n",
    "import numpy as np\n",
    "import tensorflow as tf\n",
    "from tensorflow import feature_column\n",
    "import random as rn\n",
    "from tqdm import tqdm_notebook\n",
    "\n",
    "\n",
    "from sklearn.model_selection import train_test_split\n",
    "from sklearn.preprocessing import StandardScaler\n",
    "\n",
    "from utils.data import make_input_fn, categorical_dicts, convert_categorical, breakdown_metrics\n",
    "from utils.plot import plot_confusion_matrix, plot_breakdown_confusion_matrix\n",
    "from utils.fairness_metrics import statistical_parity_difference, equality_of_opportunity\n",
    "\n",
    "from models.arch import make_discriminator_model, make_predictor_model\n",
    "from models.simple_model import SimpleClassifier\n",
    "from models.adversarial_model import FairClassifier, Discriminator"
   ]
  },
  {
   "cell_type": "markdown",
   "metadata": {},
   "source": [
    "### Utility functions"
   ]
  },
  {
   "cell_type": "code",
   "execution_count": 2,
   "metadata": {
    "ExecuteTime": {
     "end_time": "2020-03-28T22:23:07.230485Z",
     "start_time": "2020-03-28T22:23:07.228685Z"
    }
   },
   "outputs": [],
   "source": [
    "tf.random.set_seed(42)\n",
    "np.random.seed(42)\n",
    "rn.seed(42)"
   ]
  },
  {
   "cell_type": "markdown",
   "metadata": {},
   "source": [
    "### Data Processing"
   ]
  },
  {
   "cell_type": "code",
   "execution_count": 3,
   "metadata": {
    "ExecuteTime": {
     "end_time": "2020-03-28T22:23:07.275847Z",
     "start_time": "2020-03-28T22:23:07.231485Z"
    }
   },
   "outputs": [],
   "source": [
    "column_list = ['age', \n",
    "               'workclass', \n",
    "               'fnlwgt', \n",
    "               'education', \n",
    "               'education_num', \n",
    "               'marital_status', \n",
    "               'occupation',\n",
    "               'relationship',\n",
    "               'race',\n",
    "               'sex',\n",
    "               'capital_gain',\n",
    "               'capital_loss',\n",
    "               'hours_per_week',\n",
    "               'native_country',\n",
    "               'income'\n",
    "              ]\n",
    "data = pd.read_csv(\"./data/adult.data\", names=column_list)"
   ]
  },
  {
   "cell_type": "code",
   "execution_count": 4,
   "metadata": {
    "ExecuteTime": {
     "end_time": "2020-03-28T22:23:07.465806Z",
     "start_time": "2020-03-28T22:23:07.277234Z"
    }
   },
   "outputs": [],
   "source": [
    "# binarizing label\n",
    "data['income'] = data.income == ' >50K'\n",
    "data.income = data.income.astype(int)\n",
    "\n",
    "# dropping unnecessary columns\n",
    "data = data.drop(['fnlwgt'], axis=1)\n",
    "\n",
    "categorical_columns = ['education', 'marital_status', \n",
    "                       'native_country', 'occupation', 'race', \n",
    "                       'relationship', 'sex', 'workclass']\n",
    "\n",
    "numeric_columns = ['capital_gain', 'capital_loss', 'education_num', 'hours_per_week']\n",
    "\n",
    "for col in categorical_columns:\n",
    "    data[col] = data[col].str.replace(\"^\\s+\",  \"\", regex=True)\n",
    "    \n",
    "data.loc[data['race'] != 'White', 'race'] = 'Non-White'"
   ]
  },
  {
   "cell_type": "code",
   "execution_count": 5,
   "metadata": {
    "ExecuteTime": {
     "end_time": "2020-03-28T22:23:07.480776Z",
     "start_time": "2020-03-28T22:23:07.467289Z"
    }
   },
   "outputs": [
    {
     "data": {
      "text/html": [
       "<div>\n",
       "<style scoped>\n",
       "    .dataframe tbody tr th:only-of-type {\n",
       "        vertical-align: middle;\n",
       "    }\n",
       "\n",
       "    .dataframe tbody tr th {\n",
       "        vertical-align: top;\n",
       "    }\n",
       "\n",
       "    .dataframe thead th {\n",
       "        text-align: right;\n",
       "    }\n",
       "</style>\n",
       "<table border=\"1\" class=\"dataframe\">\n",
       "  <thead>\n",
       "    <tr style=\"text-align: right;\">\n",
       "      <th></th>\n",
       "      <th>age</th>\n",
       "      <th>workclass</th>\n",
       "      <th>education</th>\n",
       "      <th>education_num</th>\n",
       "      <th>marital_status</th>\n",
       "      <th>occupation</th>\n",
       "      <th>relationship</th>\n",
       "      <th>race</th>\n",
       "      <th>sex</th>\n",
       "      <th>capital_gain</th>\n",
       "      <th>capital_loss</th>\n",
       "      <th>hours_per_week</th>\n",
       "      <th>native_country</th>\n",
       "      <th>income</th>\n",
       "    </tr>\n",
       "  </thead>\n",
       "  <tbody>\n",
       "    <tr>\n",
       "      <th>0</th>\n",
       "      <td>39</td>\n",
       "      <td>State-gov</td>\n",
       "      <td>Bachelors</td>\n",
       "      <td>13</td>\n",
       "      <td>Never-married</td>\n",
       "      <td>Adm-clerical</td>\n",
       "      <td>Not-in-family</td>\n",
       "      <td>White</td>\n",
       "      <td>Male</td>\n",
       "      <td>2174</td>\n",
       "      <td>0</td>\n",
       "      <td>40</td>\n",
       "      <td>United-States</td>\n",
       "      <td>0</td>\n",
       "    </tr>\n",
       "    <tr>\n",
       "      <th>1</th>\n",
       "      <td>50</td>\n",
       "      <td>Self-emp-not-inc</td>\n",
       "      <td>Bachelors</td>\n",
       "      <td>13</td>\n",
       "      <td>Married-civ-spouse</td>\n",
       "      <td>Exec-managerial</td>\n",
       "      <td>Husband</td>\n",
       "      <td>White</td>\n",
       "      <td>Male</td>\n",
       "      <td>0</td>\n",
       "      <td>0</td>\n",
       "      <td>13</td>\n",
       "      <td>United-States</td>\n",
       "      <td>0</td>\n",
       "    </tr>\n",
       "    <tr>\n",
       "      <th>2</th>\n",
       "      <td>38</td>\n",
       "      <td>Private</td>\n",
       "      <td>HS-grad</td>\n",
       "      <td>9</td>\n",
       "      <td>Divorced</td>\n",
       "      <td>Handlers-cleaners</td>\n",
       "      <td>Not-in-family</td>\n",
       "      <td>White</td>\n",
       "      <td>Male</td>\n",
       "      <td>0</td>\n",
       "      <td>0</td>\n",
       "      <td>40</td>\n",
       "      <td>United-States</td>\n",
       "      <td>0</td>\n",
       "    </tr>\n",
       "    <tr>\n",
       "      <th>3</th>\n",
       "      <td>53</td>\n",
       "      <td>Private</td>\n",
       "      <td>11th</td>\n",
       "      <td>7</td>\n",
       "      <td>Married-civ-spouse</td>\n",
       "      <td>Handlers-cleaners</td>\n",
       "      <td>Husband</td>\n",
       "      <td>Non-White</td>\n",
       "      <td>Male</td>\n",
       "      <td>0</td>\n",
       "      <td>0</td>\n",
       "      <td>40</td>\n",
       "      <td>United-States</td>\n",
       "      <td>0</td>\n",
       "    </tr>\n",
       "    <tr>\n",
       "      <th>4</th>\n",
       "      <td>28</td>\n",
       "      <td>Private</td>\n",
       "      <td>Bachelors</td>\n",
       "      <td>13</td>\n",
       "      <td>Married-civ-spouse</td>\n",
       "      <td>Prof-specialty</td>\n",
       "      <td>Wife</td>\n",
       "      <td>Non-White</td>\n",
       "      <td>Female</td>\n",
       "      <td>0</td>\n",
       "      <td>0</td>\n",
       "      <td>40</td>\n",
       "      <td>Cuba</td>\n",
       "      <td>0</td>\n",
       "    </tr>\n",
       "  </tbody>\n",
       "</table>\n",
       "</div>"
      ],
      "text/plain": [
       "   age         workclass  education  education_num      marital_status  \\\n",
       "0   39         State-gov  Bachelors             13       Never-married   \n",
       "1   50  Self-emp-not-inc  Bachelors             13  Married-civ-spouse   \n",
       "2   38           Private    HS-grad              9            Divorced   \n",
       "3   53           Private       11th              7  Married-civ-spouse   \n",
       "4   28           Private  Bachelors             13  Married-civ-spouse   \n",
       "\n",
       "          occupation   relationship       race     sex  capital_gain  \\\n",
       "0       Adm-clerical  Not-in-family      White    Male          2174   \n",
       "1    Exec-managerial        Husband      White    Male             0   \n",
       "2  Handlers-cleaners  Not-in-family      White    Male             0   \n",
       "3  Handlers-cleaners        Husband  Non-White    Male             0   \n",
       "4     Prof-specialty           Wife  Non-White  Female             0   \n",
       "\n",
       "   capital_loss  hours_per_week native_country  income  \n",
       "0             0              40  United-States       0  \n",
       "1             0              13  United-States       0  \n",
       "2             0              40  United-States       0  \n",
       "3             0              40  United-States       0  \n",
       "4             0              40           Cuba       0  "
      ]
     },
     "execution_count": 5,
     "metadata": {},
     "output_type": "execute_result"
    }
   ],
   "source": [
    "data.head()"
   ]
  },
  {
   "cell_type": "code",
   "execution_count": 6,
   "metadata": {
    "ExecuteTime": {
     "end_time": "2020-03-28T22:23:07.489229Z",
     "start_time": "2020-03-28T22:23:07.481904Z"
    }
   },
   "outputs": [
    {
     "data": {
      "text/plain": [
       "0    24720\n",
       "1     7841\n",
       "Name: income, dtype: int64"
      ]
     },
     "execution_count": 6,
     "metadata": {},
     "output_type": "execute_result"
    }
   ],
   "source": [
    "data.income.value_counts()"
   ]
  },
  {
   "cell_type": "code",
   "execution_count": 7,
   "metadata": {
    "ExecuteTime": {
     "end_time": "2020-03-28T22:23:07.500448Z",
     "start_time": "2020-03-28T22:23:07.490178Z"
    }
   },
   "outputs": [],
   "source": [
    "# profile = ProfileReport(data, title='Census Profiling Report', html={'style':{'full_width':True}})\n",
    "# profile.to_file(output_file=\"census_report.html\")"
   ]
  },
  {
   "cell_type": "markdown",
   "metadata": {},
   "source": [
    "### Model Training"
   ]
  },
  {
   "cell_type": "code",
   "execution_count": 8,
   "metadata": {
    "ExecuteTime": {
     "end_time": "2020-03-28T22:23:07.520906Z",
     "start_time": "2020-03-28T22:23:07.501390Z"
    },
    "scrolled": true
   },
   "outputs": [
    {
     "name": "stdout",
     "output_type": "stream",
     "text": [
      "16280 train examples\n",
      "16281 test examples\n",
      "(16281, 1)\n"
     ]
    }
   ],
   "source": [
    "train, test = train_test_split(data, test_size=0.5)\n",
    "train_label, test_label = np.expand_dims(train.pop(\"income\").values, axis=1), np.expand_dims(test.pop(\"income\").values, axis=1)\n",
    "print(len(train), 'train examples')\n",
    "print(len(test), 'test examples')\n",
    "print(test_label.shape)"
   ]
  },
  {
   "cell_type": "code",
   "execution_count": 9,
   "metadata": {
    "ExecuteTime": {
     "end_time": "2020-03-28T22:23:07.523552Z",
     "start_time": "2020-03-28T22:23:07.521824Z"
    }
   },
   "outputs": [],
   "source": [
    "scaler =  StandardScaler()"
   ]
  },
  {
   "cell_type": "code",
   "execution_count": 10,
   "metadata": {
    "ExecuteTime": {
     "end_time": "2020-03-28T22:23:07.540256Z",
     "start_time": "2020-03-28T22:23:07.524458Z"
    }
   },
   "outputs": [
    {
     "name": "stderr",
     "output_type": "stream",
     "text": [
      "/home/cryptexis/dev/anaconda2/envs/dev-env3/lib/python3.7/site-packages/pandas/core/indexing.py:494: SettingWithCopyWarning: \n",
      "A value is trying to be set on a copy of a slice from a DataFrame.\n",
      "Try using .loc[row_indexer,col_indexer] = value instead\n",
      "\n",
      "See the caveats in the documentation: http://pandas.pydata.org/pandas-docs/stable/user_guide/indexing.html#returning-a-view-versus-a-copy\n",
      "  self.obj[item] = s\n"
     ]
    }
   ],
   "source": [
    "train.loc[:, numeric_columns] = scaler.fit_transform(np.array(train[numeric_columns])) "
   ]
  },
  {
   "cell_type": "code",
   "execution_count": 11,
   "metadata": {
    "ExecuteTime": {
     "end_time": "2020-03-28T22:23:07.550131Z",
     "start_time": "2020-03-28T22:23:07.541211Z"
    }
   },
   "outputs": [
    {
     "name": "stderr",
     "output_type": "stream",
     "text": [
      "/home/cryptexis/dev/anaconda2/envs/dev-env3/lib/python3.7/site-packages/pandas/core/indexing.py:494: SettingWithCopyWarning: \n",
      "A value is trying to be set on a copy of a slice from a DataFrame.\n",
      "Try using .loc[row_indexer,col_indexer] = value instead\n",
      "\n",
      "See the caveats in the documentation: http://pandas.pydata.org/pandas-docs/stable/user_guide/indexing.html#returning-a-view-versus-a-copy\n",
      "  self.obj[item] = s\n"
     ]
    }
   ],
   "source": [
    "test.loc[:, numeric_columns] = scaler.transform(np.array(test[numeric_columns]))"
   ]
  },
  {
   "cell_type": "code",
   "execution_count": 12,
   "metadata": {
    "ExecuteTime": {
     "end_time": "2020-03-28T22:23:07.559945Z",
     "start_time": "2020-03-28T22:23:07.551141Z"
    }
   },
   "outputs": [
    {
     "data": {
      "text/html": [
       "<div>\n",
       "<style scoped>\n",
       "    .dataframe tbody tr th:only-of-type {\n",
       "        vertical-align: middle;\n",
       "    }\n",
       "\n",
       "    .dataframe tbody tr th {\n",
       "        vertical-align: top;\n",
       "    }\n",
       "\n",
       "    .dataframe thead th {\n",
       "        text-align: right;\n",
       "    }\n",
       "</style>\n",
       "<table border=\"1\" class=\"dataframe\">\n",
       "  <thead>\n",
       "    <tr style=\"text-align: right;\">\n",
       "      <th></th>\n",
       "      <th>age</th>\n",
       "      <th>workclass</th>\n",
       "      <th>education</th>\n",
       "      <th>education_num</th>\n",
       "      <th>marital_status</th>\n",
       "      <th>occupation</th>\n",
       "      <th>relationship</th>\n",
       "      <th>race</th>\n",
       "      <th>sex</th>\n",
       "      <th>capital_gain</th>\n",
       "      <th>capital_loss</th>\n",
       "      <th>hours_per_week</th>\n",
       "      <th>native_country</th>\n",
       "    </tr>\n",
       "  </thead>\n",
       "  <tbody>\n",
       "    <tr>\n",
       "      <th>14160</th>\n",
       "      <td>27</td>\n",
       "      <td>Private</td>\n",
       "      <td>Some-college</td>\n",
       "      <td>-0.035057</td>\n",
       "      <td>Divorced</td>\n",
       "      <td>Adm-clerical</td>\n",
       "      <td>Not-in-family</td>\n",
       "      <td>White</td>\n",
       "      <td>Female</td>\n",
       "      <td>-0.146662</td>\n",
       "      <td>-0.225446</td>\n",
       "      <td>-0.199828</td>\n",
       "      <td>United-States</td>\n",
       "    </tr>\n",
       "    <tr>\n",
       "      <th>27048</th>\n",
       "      <td>45</td>\n",
       "      <td>State-gov</td>\n",
       "      <td>HS-grad</td>\n",
       "      <td>-0.425702</td>\n",
       "      <td>Married-civ-spouse</td>\n",
       "      <td>Exec-managerial</td>\n",
       "      <td>Wife</td>\n",
       "      <td>White</td>\n",
       "      <td>Female</td>\n",
       "      <td>-0.146662</td>\n",
       "      <td>-0.225446</td>\n",
       "      <td>-0.037953</td>\n",
       "      <td>United-States</td>\n",
       "    </tr>\n",
       "    <tr>\n",
       "      <th>28868</th>\n",
       "      <td>29</td>\n",
       "      <td>Private</td>\n",
       "      <td>Bachelors</td>\n",
       "      <td>1.136877</td>\n",
       "      <td>Married-civ-spouse</td>\n",
       "      <td>Exec-managerial</td>\n",
       "      <td>Husband</td>\n",
       "      <td>Non-White</td>\n",
       "      <td>Male</td>\n",
       "      <td>-0.146662</td>\n",
       "      <td>-0.225446</td>\n",
       "      <td>1.176107</td>\n",
       "      <td>United-States</td>\n",
       "    </tr>\n",
       "    <tr>\n",
       "      <th>5667</th>\n",
       "      <td>30</td>\n",
       "      <td>Private</td>\n",
       "      <td>Bachelors</td>\n",
       "      <td>1.136877</td>\n",
       "      <td>Never-married</td>\n",
       "      <td>Machine-op-inspct</td>\n",
       "      <td>Not-in-family</td>\n",
       "      <td>White</td>\n",
       "      <td>Female</td>\n",
       "      <td>-0.146662</td>\n",
       "      <td>-0.225446</td>\n",
       "      <td>-0.037953</td>\n",
       "      <td>United-States</td>\n",
       "    </tr>\n",
       "    <tr>\n",
       "      <th>7827</th>\n",
       "      <td>29</td>\n",
       "      <td>Self-emp-not-inc</td>\n",
       "      <td>Some-college</td>\n",
       "      <td>-0.035057</td>\n",
       "      <td>Divorced</td>\n",
       "      <td>Craft-repair</td>\n",
       "      <td>Not-in-family</td>\n",
       "      <td>White</td>\n",
       "      <td>Male</td>\n",
       "      <td>0.166019</td>\n",
       "      <td>-0.225446</td>\n",
       "      <td>0.771420</td>\n",
       "      <td>United-States</td>\n",
       "    </tr>\n",
       "  </tbody>\n",
       "</table>\n",
       "</div>"
      ],
      "text/plain": [
       "       age         workclass     education  education_num      marital_status  \\\n",
       "14160   27           Private  Some-college      -0.035057            Divorced   \n",
       "27048   45         State-gov       HS-grad      -0.425702  Married-civ-spouse   \n",
       "28868   29           Private     Bachelors       1.136877  Married-civ-spouse   \n",
       "5667    30           Private     Bachelors       1.136877       Never-married   \n",
       "7827    29  Self-emp-not-inc  Some-college      -0.035057            Divorced   \n",
       "\n",
       "              occupation   relationship       race     sex  capital_gain  \\\n",
       "14160       Adm-clerical  Not-in-family      White  Female     -0.146662   \n",
       "27048    Exec-managerial           Wife      White  Female     -0.146662   \n",
       "28868    Exec-managerial        Husband  Non-White    Male     -0.146662   \n",
       "5667   Machine-op-inspct  Not-in-family      White  Female     -0.146662   \n",
       "7827        Craft-repair  Not-in-family      White    Male      0.166019   \n",
       "\n",
       "       capital_loss  hours_per_week native_country  \n",
       "14160     -0.225446       -0.199828  United-States  \n",
       "27048     -0.225446       -0.037953  United-States  \n",
       "28868     -0.225446        1.176107  United-States  \n",
       "5667      -0.225446       -0.037953  United-States  \n",
       "7827      -0.225446        0.771420  United-States  "
      ]
     },
     "execution_count": 12,
     "metadata": {},
     "output_type": "execute_result"
    }
   ],
   "source": [
    "test.head()"
   ]
  },
  {
   "cell_type": "code",
   "execution_count": 13,
   "metadata": {
    "ExecuteTime": {
     "end_time": "2020-03-28T22:23:07.564737Z",
     "start_time": "2020-03-28T22:23:07.560816Z"
    }
   },
   "outputs": [],
   "source": [
    "batch_size = 128 # A small batch sized is used for demonstration purposes\n",
    "train_ds = make_input_fn(train,  train_label, batch_size=batch_size, shuffle=True)\n",
    "test_ds = make_input_fn(test, test_label,  shuffle=False, batch_size=batch_size)"
   ]
  },
  {
   "cell_type": "code",
   "execution_count": 14,
   "metadata": {
    "ExecuteTime": {
     "end_time": "2020-03-28T22:23:07.592387Z",
     "start_time": "2020-03-28T22:23:07.565809Z"
    }
   },
   "outputs": [],
   "source": [
    "feature_columns = []\n",
    "\n",
    "age = feature_column.numeric_column(\"age\")\n",
    "age_buckets = feature_column.bucketized_column(age, boundaries=[18, 25, 30, 35, 40, 45, 50, 55, 60, 65])\n",
    "feature_columns.append(age_buckets)\n",
    "\n",
    "# processing categorical columns\n",
    "cat_maps  = categorical_dicts(data, categorical_columns)\n",
    "\n",
    "for col in categorical_columns:\n",
    "    col_one_hot = convert_categorical(col, cat_maps)\n",
    "    feature_columns.append(col_one_hot)\n",
    "\n",
    "# processing numeric columns\n",
    "for col in numeric_columns:\n",
    "    feature_columns.append(feature_column.numeric_column(col))\n",
    "\n",
    "feature_layer = tf.keras.layers.DenseFeatures(feature_columns)"
   ]
  },
  {
   "cell_type": "code",
   "execution_count": 15,
   "metadata": {
    "ExecuteTime": {
     "end_time": "2020-03-28T22:23:24.592031Z",
     "start_time": "2020-03-28T22:23:07.593330Z"
    },
    "scrolled": false
   },
   "outputs": [
    {
     "name": "stderr",
     "output_type": "stream",
     "text": [
      "\r",
      "0it [00:00, ?it/s]"
     ]
    },
    {
     "name": "stdout",
     "output_type": "stream",
     "text": [
      "Epoch: 0\n",
      "Training:\n",
      "WARNING:tensorflow:From /home/cryptexis/dev/anaconda2/envs/dev-env3/lib/python3.7/site-packages/tensorflow_core/python/feature_column/feature_column_v2.py:4267: IndicatorColumn._variable_shape (from tensorflow.python.feature_column.feature_column_v2) is deprecated and will be removed in a future version.\n",
      "Instructions for updating:\n",
      "The old _FeatureColumn APIs are being deprecated. Please use the new FeatureColumn APIs instead.\n",
      "WARNING:tensorflow:From /home/cryptexis/dev/anaconda2/envs/dev-env3/lib/python3.7/site-packages/tensorflow_core/python/feature_column/feature_column_v2.py:4322: VocabularyListCategoricalColumn._num_buckets (from tensorflow.python.feature_column.feature_column_v2) is deprecated and will be removed in a future version.\n",
      "Instructions for updating:\n",
      "The old _FeatureColumn APIs are being deprecated. Please use the new FeatureColumn APIs instead.\n"
     ]
    },
    {
     "name": "stderr",
     "output_type": "stream",
     "text": [
      "128it [00:01, 85.37it/s]\n",
      "0it [00:00, ?it/s]"
     ]
    },
    {
     "name": "stdout",
     "output_type": "stream",
     "text": [
      "Mean: 0.626141369342804, TruePositives: 1551.0, FalsePositives: 3245.0, TrueNegatives: 9119.0, FalseNegatives: 2365.0, BinaryAccuracy: 0.6554054021835327\n",
      "------------------------------------------------------\n",
      "\n",
      "Validation:\n",
      "WARNING:tensorflow:Layer dense_features is casting an input tensor from dtype float64 to the layer's dtype of float32, which is new behavior in TensorFlow 2.  The layer has dtype float32 because it's dtype defaults to floatx.\n",
      "\n",
      "If you intended to run this layer in float32, you can safely ignore this warning. If in doubt, this warning is likely only an issue if you are porting a TensorFlow 1.X model to TensorFlow 2.\n",
      "\n",
      "To change all layers to have dtype float64 by default, call `tf.keras.backend.set_floatx('float64')`. To change just this layer, pass dtype='float64' to the layer constructor. If you are the author of this layer, you can disable autocasting by passing autocast=False to the base Layer constructor.\n",
      "\n"
     ]
    },
    {
     "name": "stderr",
     "output_type": "stream",
     "text": [
      "128it [00:01, 120.11it/s]\n",
      "2it [00:00, 19.59it/s]"
     ]
    },
    {
     "name": "stdout",
     "output_type": "stream",
     "text": [
      "Mean: 0.29209327697753906, TruePositives: 945.0, FalsePositives: 498.0, TrueNegatives: 11858.0, FalseNegatives: 2980.0, BinaryAccuracy: 0.7863767743110657\n",
      "------------------------------------------------------\n",
      "\n",
      "Epoch: 1\n",
      "Training:\n"
     ]
    },
    {
     "name": "stderr",
     "output_type": "stream",
     "text": [
      "128it [00:00, 150.92it/s]\n",
      "16it [00:00, 155.50it/s]"
     ]
    },
    {
     "name": "stdout",
     "output_type": "stream",
     "text": [
      "Mean: 0.47586509585380554, TruePositives: 974.0, FalsePositives: 302.0, TrueNegatives: 12062.0, FalseNegatives: 2942.0, BinaryAccuracy: 0.8007370829582214\n",
      "------------------------------------------------------\n",
      "\n",
      "Validation:\n"
     ]
    },
    {
     "name": "stderr",
     "output_type": "stream",
     "text": [
      "128it [00:00, 164.21it/s]\n",
      "2it [00:00, 19.51it/s]"
     ]
    },
    {
     "name": "stdout",
     "output_type": "stream",
     "text": [
      "Mean: 0.3587149381637573, TruePositives: 1221.0, FalsePositives: 321.0, TrueNegatives: 12035.0, FalseNegatives: 2704.0, BinaryAccuracy: 0.8142005801200867\n",
      "------------------------------------------------------\n",
      "\n",
      "Epoch: 2\n",
      "Training:\n"
     ]
    },
    {
     "name": "stderr",
     "output_type": "stream",
     "text": [
      "128it [00:00, 147.07it/s]\n",
      "17it [00:00, 161.38it/s]"
     ]
    },
    {
     "name": "stdout",
     "output_type": "stream",
     "text": [
      "Mean: 0.41545361280441284, TruePositives: 1353.0, FalsePositives: 346.0, TrueNegatives: 12018.0, FalseNegatives: 2563.0, BinaryAccuracy: 0.8213145136833191\n",
      "------------------------------------------------------\n",
      "\n",
      "Validation:\n"
     ]
    },
    {
     "name": "stderr",
     "output_type": "stream",
     "text": [
      "128it [00:00, 165.44it/s]\n",
      "3it [00:00, 28.64it/s]"
     ]
    },
    {
     "name": "stdout",
     "output_type": "stream",
     "text": [
      "Mean: 0.4091666042804718, TruePositives: 1501.0, FalsePositives: 398.0, TrueNegatives: 11958.0, FalseNegatives: 2424.0, BinaryAccuracy: 0.8266690969467163\n",
      "------------------------------------------------------\n",
      "\n",
      "Epoch: 3\n",
      "Training:\n"
     ]
    },
    {
     "name": "stderr",
     "output_type": "stream",
     "text": [
      "128it [00:00, 152.85it/s]\n",
      "17it [00:00, 164.76it/s]"
     ]
    },
    {
     "name": "stdout",
     "output_type": "stream",
     "text": [
      "Mean: 0.38389888405799866, TruePositives: 1606.0, FalsePositives: 454.0, TrueNegatives: 11910.0, FalseNegatives: 2310.0, BinaryAccuracy: 0.8302211165428162\n",
      "------------------------------------------------------\n",
      "\n",
      "Validation:\n"
     ]
    },
    {
     "name": "stderr",
     "output_type": "stream",
     "text": [
      "128it [00:00, 174.83it/s]\n",
      "2it [00:00, 19.78it/s]"
     ]
    },
    {
     "name": "stdout",
     "output_type": "stream",
     "text": [
      "Mean: 0.4447060227394104, TruePositives: 1698.0, FalsePositives: 484.0, TrueNegatives: 11872.0, FalseNegatives: 2227.0, BinaryAccuracy: 0.8334869146347046\n",
      "------------------------------------------------------\n",
      "\n",
      "Epoch: 4\n",
      "Training:\n"
     ]
    },
    {
     "name": "stderr",
     "output_type": "stream",
     "text": [
      "128it [00:00, 155.01it/s]\n",
      "17it [00:00, 166.89it/s]"
     ]
    },
    {
     "name": "stdout",
     "output_type": "stream",
     "text": [
      "Mean: 0.36636847257614136, TruePositives: 1776.0, FalsePositives: 511.0, TrueNegatives: 11853.0, FalseNegatives: 2140.0, BinaryAccuracy: 0.8371621370315552\n",
      "------------------------------------------------------\n",
      "\n",
      "Validation:\n"
     ]
    },
    {
     "name": "stderr",
     "output_type": "stream",
     "text": [
      "128it [00:00, 173.44it/s]\n",
      "3it [00:00, 28.85it/s]"
     ]
    },
    {
     "name": "stdout",
     "output_type": "stream",
     "text": [
      "Mean: 0.46964138746261597, TruePositives: 1833.0, FalsePositives: 561.0, TrueNegatives: 11795.0, FalseNegatives: 2092.0, BinaryAccuracy: 0.8370493054389954\n",
      "------------------------------------------------------\n",
      "\n",
      "Epoch: 5\n",
      "Training:\n"
     ]
    },
    {
     "name": "stderr",
     "output_type": "stream",
     "text": [
      "128it [00:00, 152.59it/s]\n",
      "17it [00:00, 163.03it/s]"
     ]
    },
    {
     "name": "stdout",
     "output_type": "stream",
     "text": [
      "Mean: 0.35392332077026367, TruePositives: 1941.0, FalsePositives: 600.0, TrueNegatives: 11764.0, FalseNegatives: 1975.0, BinaryAccuracy: 0.8418304920196533\n",
      "------------------------------------------------------\n",
      "\n",
      "Validation:\n"
     ]
    },
    {
     "name": "stderr",
     "output_type": "stream",
     "text": [
      "128it [00:00, 174.69it/s]\n",
      "3it [00:00, 28.95it/s]"
     ]
    },
    {
     "name": "stdout",
     "output_type": "stream",
     "text": [
      "Mean: 0.4886408746242523, TruePositives: 1903.0, FalsePositives: 591.0, TrueNegatives: 11765.0, FalseNegatives: 2022.0, BinaryAccuracy: 0.8395061492919922\n",
      "------------------------------------------------------\n",
      "\n",
      "Epoch: 6\n",
      "Training:\n"
     ]
    },
    {
     "name": "stderr",
     "output_type": "stream",
     "text": [
      "128it [00:00, 157.28it/s]\n",
      "17it [00:00, 168.21it/s]"
     ]
    },
    {
     "name": "stdout",
     "output_type": "stream",
     "text": [
      "Mean: 0.34502047300338745, TruePositives: 2024.0, FalsePositives: 632.0, TrueNegatives: 11732.0, FalseNegatives: 1892.0, BinaryAccuracy: 0.8449631333351135\n",
      "------------------------------------------------------\n",
      "\n",
      "Validation:\n"
     ]
    },
    {
     "name": "stderr",
     "output_type": "stream",
     "text": [
      "128it [00:00, 176.44it/s]\n",
      "3it [00:00, 29.30it/s]"
     ]
    },
    {
     "name": "stdout",
     "output_type": "stream",
     "text": [
      "Mean: 0.5031465291976929, TruePositives: 1984.0, FalsePositives: 625.0, TrueNegatives: 11731.0, FalseNegatives: 1941.0, BinaryAccuracy: 0.8423929810523987\n",
      "------------------------------------------------------\n",
      "\n",
      "Epoch: 7\n",
      "Training:\n"
     ]
    },
    {
     "name": "stderr",
     "output_type": "stream",
     "text": [
      "128it [00:00, 157.81it/s]\n",
      "17it [00:00, 169.53it/s]"
     ]
    },
    {
     "name": "stdout",
     "output_type": "stream",
     "text": [
      "Mean: 0.3390202224254608, TruePositives: 2055.0, FalsePositives: 659.0, TrueNegatives: 11705.0, FalseNegatives: 1861.0, BinaryAccuracy: 0.8452088236808777\n",
      "------------------------------------------------------\n",
      "\n",
      "Validation:\n"
     ]
    },
    {
     "name": "stderr",
     "output_type": "stream",
     "text": [
      "128it [00:00, 178.26it/s]\n",
      "4it [00:00, 38.01it/s]"
     ]
    },
    {
     "name": "stdout",
     "output_type": "stream",
     "text": [
      "Mean: 0.5136796832084656, TruePositives: 2056.0, FalsePositives: 662.0, TrueNegatives: 11694.0, FalseNegatives: 1869.0, BinaryAccuracy: 0.8445427417755127\n",
      "------------------------------------------------------\n",
      "\n",
      "Epoch: 8\n",
      "Training:\n"
     ]
    },
    {
     "name": "stderr",
     "output_type": "stream",
     "text": [
      "128it [00:00, 157.84it/s]\n",
      "17it [00:00, 167.35it/s]"
     ]
    },
    {
     "name": "stdout",
     "output_type": "stream",
     "text": [
      "Mean: 0.3350786864757538, TruePositives: 2108.0, FalsePositives: 695.0, TrueNegatives: 11669.0, FalseNegatives: 1808.0, BinaryAccuracy: 0.8462530970573425\n",
      "------------------------------------------------------\n",
      "\n",
      "Validation:\n"
     ]
    },
    {
     "name": "stderr",
     "output_type": "stream",
     "text": [
      "128it [00:00, 175.85it/s]\n",
      "3it [00:00, 29.47it/s]"
     ]
    },
    {
     "name": "stdout",
     "output_type": "stream",
     "text": [
      "Mean: 0.5219700336456299, TruePositives: 2127.0, FalsePositives: 689.0, TrueNegatives: 11667.0, FalseNegatives: 1798.0, BinaryAccuracy: 0.8472452759742737\n",
      "------------------------------------------------------\n",
      "\n",
      "Epoch: 9\n",
      "Training:\n"
     ]
    },
    {
     "name": "stderr",
     "output_type": "stream",
     "text": [
      "128it [00:00, 155.26it/s]\n",
      "18it [00:00, 170.88it/s]"
     ]
    },
    {
     "name": "stdout",
     "output_type": "stream",
     "text": [
      "Mean: 0.3324703872203827, TruePositives: 2138.0, FalsePositives: 698.0, TrueNegatives: 11666.0, FalseNegatives: 1778.0, BinaryAccuracy: 0.847911536693573\n",
      "------------------------------------------------------\n",
      "\n",
      "Validation:\n"
     ]
    },
    {
     "name": "stderr",
     "output_type": "stream",
     "text": [
      "128it [00:00, 177.29it/s]"
     ]
    },
    {
     "name": "stdout",
     "output_type": "stream",
     "text": [
      "Mean: 0.5287955403327942, TruePositives: 2168.0, FalsePositives: 715.0, TrueNegatives: 11641.0, FalseNegatives: 1757.0, BinaryAccuracy: 0.8481665849685669\n",
      "------------------------------------------------------\n",
      "\n"
     ]
    },
    {
     "name": "stderr",
     "output_type": "stream",
     "text": [
      "\n"
     ]
    }
   ],
   "source": [
    "p_model = make_predictor_model(feature_layer)\n",
    "clf = SimpleClassifier(p_model)\n",
    "clf.train(train_dataset = train_ds(), \n",
    "           epochs = 10, \n",
    "           validation_dataset = test_ds())"
   ]
  },
  {
   "cell_type": "code",
   "execution_count": 16,
   "metadata": {
    "ExecuteTime": {
     "end_time": "2020-03-28T22:23:25.367258Z",
     "start_time": "2020-03-28T22:23:24.593233Z"
    }
   },
   "outputs": [
    {
     "name": "stderr",
     "output_type": "stream",
     "text": [
      "128it [00:00, 176.95it/s]"
     ]
    },
    {
     "name": "stdout",
     "output_type": "stream",
     "text": [
      "Mean: 0.5287955403327942, TruePositives: 2168.0, FalsePositives: 715.0, TrueNegatives: 11641.0, FalseNegatives: 1757.0, BinaryAccuracy: 0.8481665849685669\n",
      "------------------------------------------------------\n",
      "\n"
     ]
    },
    {
     "name": "stderr",
     "output_type": "stream",
     "text": [
      "\n"
     ]
    }
   ],
   "source": [
    "test_evaluation = clf.evaluate(test_ds())"
   ]
  },
  {
   "cell_type": "code",
   "execution_count": 17,
   "metadata": {
    "ExecuteTime": {
     "end_time": "2020-03-28T22:23:25.616781Z",
     "start_time": "2020-03-28T22:23:25.368689Z"
    }
   },
   "outputs": [
    {
     "data": {
      "image/png": "[encoded data removed]",
      "text/plain": [
       "<Figure size 864x576 with 2 Axes>"
      ]
     },
     "metadata": {
      "needs_background": "light"
     },
     "output_type": "display_data"
    }
   ],
   "source": [
    "plot_confusion_matrix(cm = np.array([[ test_evaluation[1], test_evaluation[2]],\n",
    "                                     [ test_evaluation[4], test_evaluation[3]]]), \n",
    "                      title = \"Confusion Matrix\")"
   ]
  },
  {
   "cell_type": "markdown",
   "metadata": {},
   "source": [
    "### Breakdown Statistics"
   ]
  },
  {
   "cell_type": "code",
   "execution_count": 18,
   "metadata": {
    "ExecuteTime": {
     "end_time": "2020-03-28T22:23:25.839800Z",
     "start_time": "2020-03-28T22:23:25.619954Z"
    }
   },
   "outputs": [
    {
     "name": "stderr",
     "output_type": "stream",
     "text": [
      "128it [00:00, 786.38it/s]\n"
     ]
    }
   ],
   "source": [
    "test_predictions =  clf.predict(test_ds())\n",
    "\n",
    "test_combined = test.copy() \n",
    "test_combined['label'] = test_label\n",
    "test_combined['predicted'] = test_predictions"
   ]
  },
  {
   "cell_type": "code",
   "execution_count": 19,
   "metadata": {
    "ExecuteTime": {
     "end_time": "2020-03-28T22:23:25.853982Z",
     "start_time": "2020-03-28T22:23:25.842202Z"
    }
   },
   "outputs": [
    {
     "data": {
      "text/html": [
       "<div>\n",
       "<style scoped>\n",
       "    .dataframe tbody tr th:only-of-type {\n",
       "        vertical-align: middle;\n",
       "    }\n",
       "\n",
       "    .dataframe tbody tr th {\n",
       "        vertical-align: top;\n",
       "    }\n",
       "\n",
       "    .dataframe thead th {\n",
       "        text-align: right;\n",
       "    }\n",
       "</style>\n",
       "<table border=\"1\" class=\"dataframe\">\n",
       "  <thead>\n",
       "    <tr style=\"text-align: right;\">\n",
       "      <th></th>\n",
       "      <th>age</th>\n",
       "      <th>workclass</th>\n",
       "      <th>education</th>\n",
       "      <th>education_num</th>\n",
       "      <th>marital_status</th>\n",
       "      <th>occupation</th>\n",
       "      <th>relationship</th>\n",
       "      <th>race</th>\n",
       "      <th>sex</th>\n",
       "      <th>capital_gain</th>\n",
       "      <th>capital_loss</th>\n",
       "      <th>hours_per_week</th>\n",
       "      <th>native_country</th>\n",
       "      <th>label</th>\n",
       "      <th>predicted</th>\n",
       "    </tr>\n",
       "  </thead>\n",
       "  <tbody>\n",
       "    <tr>\n",
       "      <th>14160</th>\n",
       "      <td>27</td>\n",
       "      <td>Private</td>\n",
       "      <td>Some-college</td>\n",
       "      <td>-0.035057</td>\n",
       "      <td>Divorced</td>\n",
       "      <td>Adm-clerical</td>\n",
       "      <td>Not-in-family</td>\n",
       "      <td>White</td>\n",
       "      <td>Female</td>\n",
       "      <td>-0.146662</td>\n",
       "      <td>-0.225446</td>\n",
       "      <td>-0.199828</td>\n",
       "      <td>United-States</td>\n",
       "      <td>0</td>\n",
       "      <td>0</td>\n",
       "    </tr>\n",
       "    <tr>\n",
       "      <th>27048</th>\n",
       "      <td>45</td>\n",
       "      <td>State-gov</td>\n",
       "      <td>HS-grad</td>\n",
       "      <td>-0.425702</td>\n",
       "      <td>Married-civ-spouse</td>\n",
       "      <td>Exec-managerial</td>\n",
       "      <td>Wife</td>\n",
       "      <td>White</td>\n",
       "      <td>Female</td>\n",
       "      <td>-0.146662</td>\n",
       "      <td>-0.225446</td>\n",
       "      <td>-0.037953</td>\n",
       "      <td>United-States</td>\n",
       "      <td>0</td>\n",
       "      <td>0</td>\n",
       "    </tr>\n",
       "    <tr>\n",
       "      <th>28868</th>\n",
       "      <td>29</td>\n",
       "      <td>Private</td>\n",
       "      <td>Bachelors</td>\n",
       "      <td>1.136877</td>\n",
       "      <td>Married-civ-spouse</td>\n",
       "      <td>Exec-managerial</td>\n",
       "      <td>Husband</td>\n",
       "      <td>Non-White</td>\n",
       "      <td>Male</td>\n",
       "      <td>-0.146662</td>\n",
       "      <td>-0.225446</td>\n",
       "      <td>1.176107</td>\n",
       "      <td>United-States</td>\n",
       "      <td>1</td>\n",
       "      <td>1</td>\n",
       "    </tr>\n",
       "    <tr>\n",
       "      <th>5667</th>\n",
       "      <td>30</td>\n",
       "      <td>Private</td>\n",
       "      <td>Bachelors</td>\n",
       "      <td>1.136877</td>\n",
       "      <td>Never-married</td>\n",
       "      <td>Machine-op-inspct</td>\n",
       "      <td>Not-in-family</td>\n",
       "      <td>White</td>\n",
       "      <td>Female</td>\n",
       "      <td>-0.146662</td>\n",
       "      <td>-0.225446</td>\n",
       "      <td>-0.037953</td>\n",
       "      <td>United-States</td>\n",
       "      <td>0</td>\n",
       "      <td>0</td>\n",
       "    </tr>\n",
       "    <tr>\n",
       "      <th>7827</th>\n",
       "      <td>29</td>\n",
       "      <td>Self-emp-not-inc</td>\n",
       "      <td>Some-college</td>\n",
       "      <td>-0.035057</td>\n",
       "      <td>Divorced</td>\n",
       "      <td>Craft-repair</td>\n",
       "      <td>Not-in-family</td>\n",
       "      <td>White</td>\n",
       "      <td>Male</td>\n",
       "      <td>0.166019</td>\n",
       "      <td>-0.225446</td>\n",
       "      <td>0.771420</td>\n",
       "      <td>United-States</td>\n",
       "      <td>0</td>\n",
       "      <td>0</td>\n",
       "    </tr>\n",
       "  </tbody>\n",
       "</table>\n",
       "</div>"
      ],
      "text/plain": [
       "       age         workclass     education  education_num      marital_status  \\\n",
       "14160   27           Private  Some-college      -0.035057            Divorced   \n",
       "27048   45         State-gov       HS-grad      -0.425702  Married-civ-spouse   \n",
       "28868   29           Private     Bachelors       1.136877  Married-civ-spouse   \n",
       "5667    30           Private     Bachelors       1.136877       Never-married   \n",
       "7827    29  Self-emp-not-inc  Some-college      -0.035057            Divorced   \n",
       "\n",
       "              occupation   relationship       race     sex  capital_gain  \\\n",
       "14160       Adm-clerical  Not-in-family      White  Female     -0.146662   \n",
       "27048    Exec-managerial           Wife      White  Female     -0.146662   \n",
       "28868    Exec-managerial        Husband  Non-White    Male     -0.146662   \n",
       "5667   Machine-op-inspct  Not-in-family      White  Female     -0.146662   \n",
       "7827        Craft-repair  Not-in-family      White    Male      0.166019   \n",
       "\n",
       "       capital_loss  hours_per_week native_country  label  predicted  \n",
       "14160     -0.225446       -0.199828  United-States      0          0  \n",
       "27048     -0.225446       -0.037953  United-States      0          0  \n",
       "28868     -0.225446        1.176107  United-States      1          1  \n",
       "5667      -0.225446       -0.037953  United-States      0          0  \n",
       "7827      -0.225446        0.771420  United-States      0          0  "
      ]
     },
     "execution_count": 19,
     "metadata": {},
     "output_type": "execute_result"
    }
   ],
   "source": [
    "test_combined.head()"
   ]
  },
  {
   "cell_type": "code",
   "execution_count": 20,
   "metadata": {
    "ExecuteTime": {
     "end_time": "2020-03-28T22:23:25.872143Z",
     "start_time": "2020-03-28T22:23:25.855539Z"
    }
   },
   "outputs": [],
   "source": [
    "# selecting sub-dataframes corresponding to True/False positives and True/False negatives\n",
    "tp = test_combined[(test_combined.label == test_combined.predicted) & (test_combined.label == 1)]\n",
    "tn = test_combined[(test_combined.label == test_combined.predicted) & (test_combined.label == 0)]\n",
    "fp = test_combined[(test_combined.label != test_combined.predicted) & (test_combined.label == 0)]\n",
    "fn = test_combined[(test_combined.label != test_combined.predicted) & (test_combined.label == 1)]"
   ]
  },
  {
   "cell_type": "code",
   "execution_count": 21,
   "metadata": {
    "ExecuteTime": {
     "end_time": "2020-03-28T22:23:26.327907Z",
     "start_time": "2020-03-28T22:23:25.873423Z"
    }
   },
   "outputs": [
    {
     "data": {
      "image/png": "[encoded data removed]",
      "text/plain": [
       "<Figure size 864x576 with 2 Axes>"
      ]
     },
     "metadata": {
      "needs_background": "light"
     },
     "output_type": "display_data"
    },
    {
     "data": {
      "image/png": "[encoded data removed]",
      "text/plain": [
       "<Figure size 864x576 with 2 Axes>"
      ]
     },
     "metadata": {
      "needs_background": "light"
     },
     "output_type": "display_data"
    },
    {
     "name": "stdout",
     "output_type": "stream",
     "text": [
      "For value Female: FPR: 0.017115424754748487, FNR: 0.5885416666666666\n",
      "For value Male: FPR: 0.08367481824190351, FNR: 0.42340997312630635\n"
     ]
    }
   ],
   "source": [
    "col = 'sex'\n",
    "for val in  test[col].unique():\n",
    "    plot_breakdown_confusion_matrix(tp, tn, fp, fn, col, val)\n",
    "    \n",
    "for val in test[col].unique():\n",
    "    breakdown_metrics(tp, tn, fp, fn, col, val)"
   ]
  },
  {
   "cell_type": "code",
   "execution_count": 22,
   "metadata": {
    "ExecuteTime": {
     "end_time": "2020-03-28T22:23:26.787124Z",
     "start_time": "2020-03-28T22:23:26.329010Z"
    },
    "scrolled": false
   },
   "outputs": [
    {
     "data": {
      "image/png": "[encoded data removed]",
      "text/plain": [
       "<Figure size 864x576 with 2 Axes>"
      ]
     },
     "metadata": {
      "needs_background": "light"
     },
     "output_type": "display_data"
    },
    {
     "data": {
      "image/png": "[encoded data removed]",
      "text/plain": [
       "<Figure size 864x576 with 2 Axes>"
      ]
     },
     "metadata": {
      "needs_background": "light"
     },
     "output_type": "display_data"
    },
    {
     "name": "stdout",
     "output_type": "stream",
     "text": [
      "For value White: FPR: 0.061579909554507845, FNR: 0.44329319518342203\n",
      "For value Non-White: FPR: 0.038206826286296486, FNR: 0.4915254237288136\n"
     ]
    }
   ],
   "source": [
    "col = 'race'\n",
    "for val in  test[col].unique():\n",
    "    plot_breakdown_confusion_matrix(tp, tn, fp, fn, col, val)\n",
    "    \n",
    "for val in test[col].unique():\n",
    "    breakdown_metrics(tp, tn, fp, fn, col, val)"
   ]
  },
  {
   "cell_type": "markdown",
   "metadata": {},
   "source": [
    "### Fairness metrics"
   ]
  },
  {
   "cell_type": "code",
   "execution_count": 23,
   "metadata": {
    "ExecuteTime": {
     "end_time": "2020-03-28T22:23:26.948893Z",
     "start_time": "2020-03-28T22:23:26.788250Z"
    }
   },
   "outputs": [
    {
     "name": "stdout",
     "output_type": "stream",
     "text": [
      "Privileged Group: Male\n",
      "Statistical parity P(Y_hat = 1) - P(Y_hat= 1| sex=Female): 0.11764027305659558\n",
      "Statistical parity P(Y_hat = 1) - P(Y_hat= 1| sex=Male): -0.05785004081865022\n",
      "Statistical parity P(Y_hat = 1|sex=Male) - P(Y_hat= 1|sex=Female): 0.1754903138752458\n"
     ]
    },
    {
     "data": {
      "image/png": "[encoded data removed]",
      "text/plain": [
       "<Figure size 432x288 with 1 Axes>"
      ]
     },
     "metadata": {
      "needs_background": "light"
     },
     "output_type": "display_data"
    }
   ],
   "source": [
    "statistical_parity_difference(test_combined, 'predicted', 'sex')"
   ]
  },
  {
   "cell_type": "code",
   "execution_count": 24,
   "metadata": {
    "ExecuteTime": {
     "end_time": "2020-03-28T22:23:27.058698Z",
     "start_time": "2020-03-28T22:23:26.949758Z"
    }
   },
   "outputs": [
    {
     "name": "stdout",
     "output_type": "stream",
     "text": [
      "Privileged Group: Male\n",
      "Opportunity P(Y_hat = 1| Y=1) - P(Y_hat = 1| Y=1, sex=Female): 0.1408983545647559\n",
      "Opportunity P(Y_hat = 1| Y=1) - P(Y_hat = 1| Y=1, sex=Male): -0.024233338975604424\n",
      "Statistical parity P(Y_hat = 1| Y=1, sex=Male) - P(Y_hat= 1| Y=1, sex=Female): 0.16513169354036034\n"
     ]
    },
    {
     "data": {
      "image/png": "[encoded data removed]",
      "text/plain": [
       "<Figure size 432x288 with 1 Axes>"
      ]
     },
     "metadata": {
      "needs_background": "light"
     },
     "output_type": "display_data"
    }
   ],
   "source": [
    "equality_of_opportunity(test_combined, 'predicted', 'label', 'sex')"
   ]
  },
  {
   "cell_type": "markdown",
   "metadata": {},
   "source": [
    "### Applying adversarial model"
   ]
  },
  {
   "cell_type": "code",
   "execution_count": 25,
   "metadata": {
    "ExecuteTime": {
     "end_time": "2020-03-28T22:23:44.822577Z",
     "start_time": "2020-03-28T22:23:27.059725Z"
    }
   },
   "outputs": [
    {
     "name": "stderr",
     "output_type": "stream",
     "text": [
      "\r",
      "0it [00:00, ?it/s]"
     ]
    },
    {
     "name": "stdout",
     "output_type": "stream",
     "text": [
      "Epoch: 0\n",
      "Training:\n",
      "WARNING:tensorflow:AutoGraph could not transform <bound method FairClassifier._train_step of <tensorflow.python.eager.function.TfMethodTarget object at 0x7f2a8dd89438>> and will run it as-is.\n",
      "Please report this to the TensorFlow team. When filing the bug, set the verbosity to 10 (on Linux, `export AUTOGRAPH_VERBOSITY=10`) and attach the full output.\n",
      "Cause: Mangled names are not yet supported by AutoGraph\n",
      "WARNING: AutoGraph could not transform <bound method FairClassifier._train_step of <tensorflow.python.eager.function.TfMethodTarget object at 0x7f2a8dd89438>> and will run it as-is.\n",
      "Please report this to the TensorFlow team. When filing the bug, set the verbosity to 10 (on Linux, `export AUTOGRAPH_VERBOSITY=10`) and attach the full output.\n",
      "Cause: Mangled names are not yet supported by AutoGraph\n",
      "WARNING:tensorflow:Calling GradientTape.gradient on a persistent tape inside its context is significantly less efficient than calling it outside the context (it causes the gradient ops to be recorded on the tape, leading to increased CPU and memory usage). Only call GradientTape.gradient inside the context if you actually want to trace the gradient in order to compute higher order derivatives.\n",
      "WARNING:tensorflow:Calling GradientTape.gradient on a persistent tape inside its context is significantly less efficient than calling it outside the context (it causes the gradient ops to be recorded on the tape, leading to increased CPU and memory usage). Only call GradientTape.gradient inside the context if you actually want to trace the gradient in order to compute higher order derivatives.\n"
     ]
    },
    {
     "name": "stderr",
     "output_type": "stream",
     "text": [
      "128it [00:01, 70.13it/s]\n",
      "1it [00:00,  6.03it/s]"
     ]
    },
    {
     "name": "stdout",
     "output_type": "stream",
     "text": [
      "Mean: 0.68841952085495, TruePositives: 912.0, FalsePositives: 3562.0, TrueNegatives: 8802.0, FalseNegatives: 3004.0, BinaryAccuracy: 0.5966830253601074\n",
      "------------------------------------------------------\n",
      "\n",
      "Validation:\n"
     ]
    },
    {
     "name": "stderr",
     "output_type": "stream",
     "text": [
      "128it [00:01, 120.81it/s]\n",
      "1it [00:00,  9.79it/s]"
     ]
    },
    {
     "name": "stdout",
     "output_type": "stream",
     "text": [
      "Mean: 0.22492678463459015, TruePositives: 269.0, FalsePositives: 807.0, TrueNegatives: 11549.0, FalseNegatives: 3656.0, BinaryAccuracy: 0.7258768081665039\n",
      "------------------------------------------------------\n",
      "\n",
      "Epoch: 1\n",
      "Training:\n"
     ]
    },
    {
     "name": "stderr",
     "output_type": "stream",
     "text": [
      "128it [00:00, 150.99it/s]\n",
      "17it [00:00, 168.99it/s]"
     ]
    },
    {
     "name": "stdout",
     "output_type": "stream",
     "text": [
      "Mean: 0.5813037157058716, TruePositives: 354.0, FalsePositives: 559.0, TrueNegatives: 11805.0, FalseNegatives: 3562.0, BinaryAccuracy: 0.746867299079895\n",
      "------------------------------------------------------\n",
      "\n",
      "Validation:\n"
     ]
    },
    {
     "name": "stderr",
     "output_type": "stream",
     "text": [
      "128it [00:00, 167.43it/s]\n",
      "1it [00:00,  8.89it/s]"
     ]
    },
    {
     "name": "stdout",
     "output_type": "stream",
     "text": [
      "Mean: 0.28096944093704224, TruePositives: 446.0, FalsePositives: 445.0, TrueNegatives: 11911.0, FalseNegatives: 3479.0, BinaryAccuracy: 0.7589828372001648\n",
      "------------------------------------------------------\n",
      "\n",
      "Epoch: 2\n",
      "Training:\n"
     ]
    },
    {
     "name": "stderr",
     "output_type": "stream",
     "text": [
      "128it [00:00, 149.66it/s]\n",
      "16it [00:00, 159.70it/s]"
     ]
    },
    {
     "name": "stdout",
     "output_type": "stream",
     "text": [
      "Mean: 0.510205864906311, TruePositives: 568.0, FalsePositives: 439.0, TrueNegatives: 11925.0, FalseNegatives: 3348.0, BinaryAccuracy: 0.7673832774162292\n",
      "------------------------------------------------------\n",
      "\n",
      "Validation:\n"
     ]
    },
    {
     "name": "stderr",
     "output_type": "stream",
     "text": [
      "128it [00:00, 166.61it/s]\n",
      "1it [00:00,  8.60it/s]"
     ]
    },
    {
     "name": "stdout",
     "output_type": "stream",
     "text": [
      "Mean: 0.32212045788764954, TruePositives: 667.0, FalsePositives: 315.0, TrueNegatives: 12041.0, FalseNegatives: 3258.0, BinaryAccuracy: 0.780541718006134\n",
      "------------------------------------------------------\n",
      "\n",
      "Epoch: 3\n",
      "Training:\n"
     ]
    },
    {
     "name": "stderr",
     "output_type": "stream",
     "text": [
      "128it [00:00, 146.08it/s]\n",
      "16it [00:00, 158.90it/s]"
     ]
    },
    {
     "name": "stdout",
     "output_type": "stream",
     "text": [
      "Mean: 0.464505672454834, TruePositives: 903.0, FalsePositives: 477.0, TrueNegatives: 11887.0, FalseNegatives: 3013.0, BinaryAccuracy: 0.7856265306472778\n",
      "------------------------------------------------------\n",
      "\n",
      "Validation:\n"
     ]
    },
    {
     "name": "stderr",
     "output_type": "stream",
     "text": [
      "128it [00:00, 167.50it/s]\n",
      "1it [00:00,  8.84it/s]"
     ]
    },
    {
     "name": "stdout",
     "output_type": "stream",
     "text": [
      "Mean: 0.3561599850654602, TruePositives: 1265.0, FalsePositives: 638.0, TrueNegatives: 11718.0, FalseNegatives: 2660.0, BinaryAccuracy: 0.7974326014518738\n",
      "------------------------------------------------------\n",
      "\n",
      "Epoch: 4\n",
      "Training:\n"
     ]
    },
    {
     "name": "stderr",
     "output_type": "stream",
     "text": [
      "128it [00:00, 142.56it/s]\n",
      "17it [00:00, 166.31it/s]"
     ]
    },
    {
     "name": "stdout",
     "output_type": "stream",
     "text": [
      "Mean: 0.4421929717063904, TruePositives: 1517.0, FalsePositives: 794.0, TrueNegatives: 11570.0, FalseNegatives: 2399.0, BinaryAccuracy: 0.8038697838783264\n",
      "------------------------------------------------------\n",
      "\n",
      "Validation:\n"
     ]
    },
    {
     "name": "stderr",
     "output_type": "stream",
     "text": [
      "128it [00:00, 171.44it/s]\n",
      "1it [00:00,  9.50it/s]"
     ]
    },
    {
     "name": "stdout",
     "output_type": "stream",
     "text": [
      "Mean: 0.3790394365787506, TruePositives: 1702.0, FalsePositives: 879.0, TrueNegatives: 11477.0, FalseNegatives: 2223.0, BinaryAccuracy: 0.8094711899757385\n",
      "------------------------------------------------------\n",
      "\n",
      "Epoch: 5\n",
      "Training:\n"
     ]
    },
    {
     "name": "stderr",
     "output_type": "stream",
     "text": [
      "128it [00:00, 143.96it/s]\n",
      "15it [00:00, 147.00it/s]"
     ]
    },
    {
     "name": "stdout",
     "output_type": "stream",
     "text": [
      "Mean: 0.4287709593772888, TruePositives: 1756.0, FalsePositives: 904.0, TrueNegatives: 11460.0, FalseNegatives: 2160.0, BinaryAccuracy: 0.8117936253547668\n",
      "------------------------------------------------------\n",
      "\n",
      "Validation:\n"
     ]
    },
    {
     "name": "stderr",
     "output_type": "stream",
     "text": [
      "128it [00:00, 155.04it/s]\n",
      "1it [00:00,  8.75it/s]"
     ]
    },
    {
     "name": "stdout",
     "output_type": "stream",
     "text": [
      "Mean: 0.39394068717956543, TruePositives: 1722.0, FalsePositives: 863.0, TrueNegatives: 11493.0, FalseNegatives: 2203.0, BinaryAccuracy: 0.8116823434829712\n",
      "------------------------------------------------------\n",
      "\n",
      "Epoch: 6\n",
      "Training:\n"
     ]
    },
    {
     "name": "stderr",
     "output_type": "stream",
     "text": [
      "128it [00:00, 140.15it/s]\n",
      "18it [00:00, 172.37it/s]"
     ]
    },
    {
     "name": "stdout",
     "output_type": "stream",
     "text": [
      "Mean: 0.41842740774154663, TruePositives: 1761.0, FalsePositives: 869.0, TrueNegatives: 11495.0, FalseNegatives: 2155.0, BinaryAccuracy: 0.8142505884170532\n",
      "------------------------------------------------------\n",
      "\n",
      "Validation:\n"
     ]
    },
    {
     "name": "stderr",
     "output_type": "stream",
     "text": [
      "128it [00:00, 173.87it/s]\n",
      "1it [00:00,  9.70it/s]"
     ]
    },
    {
     "name": "stdout",
     "output_type": "stream",
     "text": [
      "Mean: 0.4059399366378784, TruePositives: 1757.0, FalsePositives: 857.0, TrueNegatives: 11499.0, FalseNegatives: 2168.0, BinaryAccuracy: 0.8142005801200867\n",
      "------------------------------------------------------\n",
      "\n",
      "Epoch: 7\n",
      "Training:\n"
     ]
    },
    {
     "name": "stderr",
     "output_type": "stream",
     "text": [
      "128it [00:00, 149.56it/s]\n",
      "18it [00:00, 171.38it/s]"
     ]
    },
    {
     "name": "stdout",
     "output_type": "stream",
     "text": [
      "Mean: 0.4118221402168274, TruePositives: 1790.0, FalsePositives: 859.0, TrueNegatives: 11505.0, FalseNegatives: 2126.0, BinaryAccuracy: 0.8166462182998657\n",
      "------------------------------------------------------\n",
      "\n",
      "Validation:\n"
     ]
    },
    {
     "name": "stderr",
     "output_type": "stream",
     "text": [
      "128it [00:00, 174.42it/s]\n",
      "1it [00:00,  9.33it/s]"
     ]
    },
    {
     "name": "stdout",
     "output_type": "stream",
     "text": [
      "Mean: 0.4154638648033142, TruePositives: 1800.0, FalsePositives: 865.0, TrueNegatives: 11491.0, FalseNegatives: 2125.0, BinaryAccuracy: 0.8163503408432007\n",
      "------------------------------------------------------\n",
      "\n",
      "Epoch: 8\n",
      "Training:\n"
     ]
    },
    {
     "name": "stderr",
     "output_type": "stream",
     "text": [
      "128it [00:00, 152.49it/s]\n",
      "16it [00:00, 159.98it/s]"
     ]
    },
    {
     "name": "stdout",
     "output_type": "stream",
     "text": [
      "Mean: 0.4058104455471039, TruePositives: 1896.0, FalsePositives: 891.0, TrueNegatives: 11473.0, FalseNegatives: 2020.0, BinaryAccuracy: 0.821191668510437\n",
      "------------------------------------------------------\n",
      "\n",
      "Validation:\n"
     ]
    },
    {
     "name": "stderr",
     "output_type": "stream",
     "text": [
      "128it [00:00, 170.12it/s]\n",
      "1it [00:00,  9.54it/s]"
     ]
    },
    {
     "name": "stdout",
     "output_type": "stream",
     "text": [
      "Mean: 0.42364275455474854, TruePositives: 1915.0, FalsePositives: 929.0, TrueNegatives: 11427.0, FalseNegatives: 2010.0, BinaryAccuracy: 0.8194828033447266\n",
      "------------------------------------------------------\n",
      "\n",
      "Epoch: 9\n",
      "Training:\n"
     ]
    },
    {
     "name": "stderr",
     "output_type": "stream",
     "text": [
      "128it [00:00, 144.86it/s]\n",
      "17it [00:00, 169.15it/s]"
     ]
    },
    {
     "name": "stdout",
     "output_type": "stream",
     "text": [
      "Mean: 0.4012514352798462, TruePositives: 1957.0, FalsePositives: 903.0, TrueNegatives: 11461.0, FalseNegatives: 1959.0, BinaryAccuracy: 0.8242014646530151\n",
      "------------------------------------------------------\n",
      "\n",
      "Validation:\n"
     ]
    },
    {
     "name": "stderr",
     "output_type": "stream",
     "text": [
      "128it [00:00, 168.71it/s]"
     ]
    },
    {
     "name": "stdout",
     "output_type": "stream",
     "text": [
      "Mean: 0.4305817484855652, TruePositives: 1923.0, FalsePositives: 928.0, TrueNegatives: 11428.0, FalseNegatives: 2002.0, BinaryAccuracy: 0.8200356364250183\n",
      "------------------------------------------------------\n",
      "\n"
     ]
    },
    {
     "name": "stderr",
     "output_type": "stream",
     "text": [
      "\n"
     ]
    }
   ],
   "source": [
    "tf.random.set_seed(42)\n",
    "np.random.seed(42)\n",
    "rn.seed(42)\n",
    "\n",
    "p_model = make_predictor_model(feature_layer)\n",
    "d_model = Discriminator(make_discriminator_model(), \"sex\")\n",
    "fclf = FairClassifier(p_model, d_model, hyper_parameters={'alpha': 9.3, 'c': 2.0, 'category_maps': cat_maps})\n",
    "fclf.train(train_dataset = train_ds(), \n",
    "           epochs = 10,\n",
    "           validation_dataset = test_ds())"
   ]
  },
  {
   "cell_type": "code",
   "execution_count": 26,
   "metadata": {
    "ExecuteTime": {
     "end_time": "2020-03-28T22:23:45.060271Z",
     "start_time": "2020-03-28T22:23:44.825566Z"
    }
   },
   "outputs": [
    {
     "name": "stderr",
     "output_type": "stream",
     "text": [
      "128it [00:00, 702.41it/s]\n"
     ]
    }
   ],
   "source": [
    "test_predictions =  fclf.predict(test_ds())\n",
    "\n",
    "\n",
    "test_combined = test.copy() \n",
    "test_combined['label'] = test_label\n",
    "test_combined['predicted'] = test_predictions"
   ]
  },
  {
   "cell_type": "code",
   "execution_count": 27,
   "metadata": {
    "ExecuteTime": {
     "end_time": "2020-03-28T22:23:45.073705Z",
     "start_time": "2020-03-28T22:23:45.061289Z"
    }
   },
   "outputs": [],
   "source": [
    "tp = test_combined[(test_combined.label == test_combined.predicted) & (test_combined.label == 1)]\n",
    "tn = test_combined[(test_combined.label == test_combined.predicted) & (test_combined.label == 0)]\n",
    "fp = test_combined[(test_combined.label != test_combined.predicted) & (test_combined.label == 0)]\n",
    "fn = test_combined[(test_combined.label != test_combined.predicted) & (test_combined.label == 1)]"
   ]
  },
  {
   "cell_type": "code",
   "execution_count": 28,
   "metadata": {
    "ExecuteTime": {
     "end_time": "2020-03-28T22:23:45.569643Z",
     "start_time": "2020-03-28T22:23:45.074678Z"
    }
   },
   "outputs": [
    {
     "data": {
      "image/png": "[encoded data removed]",
      "text/plain": [
       "<Figure size 864x576 with 2 Axes>"
      ]
     },
     "metadata": {
      "needs_background": "light"
     },
     "output_type": "display_data"
    },
    {
     "data": {
      "image/png": "[encoded data removed]",
      "text/plain": [
       "<Figure size 864x576 with 2 Axes>"
      ]
     },
     "metadata": {
      "needs_background": "light"
     },
     "output_type": "display_data"
    },
    {
     "name": "stdout",
     "output_type": "stream",
     "text": [
      "For value Female: FPR: 0.07806303485702358, FNR: 0.5086805555555556\n",
      "For value Male: FPR: 0.07323198942498348, FNR: 0.5103015825619588\n"
     ]
    }
   ],
   "source": [
    "col = 'sex'\n",
    "for val in  test[col].unique():\n",
    "    plot_breakdown_confusion_matrix(tp, tn, fp, fn, col, val)\n",
    "    \n",
    "for val in test[col].unique():\n",
    "    breakdown_metrics(tp, tn, fp, fn, col, val)"
   ]
  },
  {
   "cell_type": "code",
   "execution_count": 31,
   "metadata": {
    "ExecuteTime": {
     "end_time": "2020-03-28T22:23:50.392263Z",
     "start_time": "2020-03-28T22:23:49.883498Z"
    }
   },
   "outputs": [
    {
     "data": {
      "image/png": "[encoded data removed]",
      "text/plain": [
       "<Figure size 864x576 with 2 Axes>"
      ]
     },
     "metadata": {
      "needs_background": "light"
     },
     "output_type": "display_data"
    },
    {
     "data": {
      "image/png": "[encoded data removed]",
      "text/plain": [
       "<Figure size 864x576 with 2 Axes>"
      ]
     },
     "metadata": {
      "needs_background": "light"
     },
     "output_type": "display_data"
    },
    {
     "name": "stdout",
     "output_type": "stream",
     "text": [
      "For value White: FPR: 0.07841816607331858, FNR: 0.5096611593391207\n",
      "For value Non-White: FPR: 0.05756495160468671, FNR: 0.5141242937853108\n"
     ]
    }
   ],
   "source": [
    "col = 'race'\n",
    "for val in  test[col].unique():\n",
    "    plot_breakdown_confusion_matrix(tp, tn, fp, fn, col, val)\n",
    "    \n",
    "for val in test[col].unique():\n",
    "    breakdown_metrics(tp, tn, fp, fn, col, val)"
   ]
  },
  {
   "cell_type": "code",
   "execution_count": 29,
   "metadata": {
    "ExecuteTime": {
     "end_time": "2020-03-28T22:23:45.675579Z",
     "start_time": "2020-03-28T22:23:45.570743Z"
    }
   },
   "outputs": [
    {
     "name": "stdout",
     "output_type": "stream",
     "text": [
      "Privileged Group: Male\n",
      "Statistical parity P(Y_hat = 1) - P(Y_hat= 1| sex=Female): 0.05269733700432823\n",
      "Statistical parity P(Y_hat = 1) - P(Y_hat= 1| sex=Male): -0.02591411102274413\n",
      "Statistical parity P(Y_hat = 1|sex=Male) - P(Y_hat= 1|sex=Female): 0.07861144802707236\n"
     ]
    },
    {
     "data": {
      "image/png": "[encoded data removed]",
      "text/plain": [
       "<Figure size 432x288 with 1 Axes>"
      ]
     },
     "metadata": {
      "needs_background": "light"
     },
     "output_type": "display_data"
    }
   ],
   "source": [
    "statistical_parity_difference(test_combined, 'predicted', 'sex')\n",
    "\n",
    "# P(Y_hat = 1): 0.17812173699404213\n",
    "# Priveleged Group: Male\n",
    "# Statistical parity P(Y_hat = 1) - P(Y_hat= 1| sex=Male): -0.06180449629318702\n",
    "# Statistical parity P(Y_hat = 1) - P(Y_hat= 1| sex=Female): 0.12330201661140784\n",
    "# Statistical parity P(Y_hat = 1| sex=Male) - P(Y_hat= 1| sex=Female): 0.18510651290459484"
   ]
  },
  {
   "cell_type": "code",
   "execution_count": 30,
   "metadata": {
    "ExecuteTime": {
     "end_time": "2020-03-28T22:23:45.784594Z",
     "start_time": "2020-03-28T22:23:45.676682Z"
    }
   },
   "outputs": [
    {
     "name": "stdout",
     "output_type": "stream",
     "text": [
      "Privileged Group: Male\n",
      "Opportunity P(Y_hat = 1| Y=1) - P(Y_hat = 1| Y=1, sex=Female): -0.00138313871196033\n",
      "Opportunity P(Y_hat = 1| Y=1) - P(Y_hat = 1| Y=1, sex=Male): 0.0002378882944428784\n",
      "Statistical parity P(Y_hat = 1| Y=1, sex=Male) - P(Y_hat= 1| Y=1, sex=Female): -0.0016210270064032084\n"
     ]
    },
    {
     "data": {
      "image/png": "[encoded data removed]",
      "text/plain": [
       "<Figure size 432x288 with 1 Axes>"
      ]
     },
     "metadata": {
      "needs_background": "light"
     },
     "output_type": "display_data"
    }
   ],
   "source": [
    "equality_of_opportunity(test_combined, 'predicted', 'label', 'sex')\n",
    "\n",
    "# population level opportunity : 0.5655421066185938\n",
    "# Priveleged Group: Male\n",
    "# Opportunity P(Y_hat = 1| Y=1) - P(Y_hat = 1| Y=1, sex=Male): -0.030072996913683925\n",
    "# Opportunity P(Y_hat = 1| Y=1) - P(Y_hat = 1| Y=1, sex=Female): 0.16487432698587262\n",
    "# Statistical parity P(Y_hat = 1| Y=1, sex=Male) - P(Y_hat= 1| Y=1, sex=Female): 0.19494732389955655"
   ]
  }
 ],
 "metadata": {
  "kernelspec": {
   "display_name": "Python 3",
   "language": "python",
   "name": "python3"
  },
  "language_info": {
   "codemirror_mode": {
    "name": "ipython",
    "version": 3
   },
   "file_extension": ".py",
   "mimetype": "text/x-python",
   "name": "python",
   "nbconvert_exporter": "python",
   "pygments_lexer": "ipython3",
   "version": "3.7.1"
  },
  "toc": {
   "base_numbering": 1,
   "nav_menu": {},
   "number_sections": true,
   "sideBar": true,
   "skip_h1_title": false,
   "title_cell": "Table of Contents",
   "title_sidebar": "Contents",
   "toc_cell": false,
   "toc_position": {
    "height": "calc(100% - 180px)",
    "left": "10px",
    "top": "150px",
    "width": "384px"
   },
   "toc_section_display": true,
   "toc_window_display": true
  },
  "varInspector": {
   "cols": {
    "lenName": 16,
    "lenType": 16,
    "lenVar": 40
   },
   "kernels_config": {
    "python": {
     "delete_cmd_postfix": "",
     "delete_cmd_prefix": "del ",
     "library": "var_list.py",
     "varRefreshCmd": "print(var_dic_list())"
    },
    "r": {
     "delete_cmd_postfix": ") ",
     "delete_cmd_prefix": "rm(",
     "library": "var_list.r",
     "varRefreshCmd": "cat(var_dic_list()) "
    }
   },
   "types_to_exclude": [
    "module",
    "function",
    "builtin_function_or_method",
    "instance",
    "_Feature"
   ],
   "window_display": false
  }
 },
 "nbformat": 4,
 "nbformat_minor": 2
}
